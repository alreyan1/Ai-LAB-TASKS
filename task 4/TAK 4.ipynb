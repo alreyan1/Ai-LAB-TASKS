{
 "cells": [
  {
   "cell_type": "markdown",
   "id": "3eed8c8e",
   "metadata": {},
   "source": [
    "## REMOVE SPECIAL CHARACTAR"
   ]
  },
  {
   "cell_type": "code",
   "execution_count": 1,
   "id": "5309dcb7",
   "metadata": {},
   "outputs": [
    {
     "name": "stdout",
     "output_type": "stream",
     "text": [
      "Cleaned text: RAFAEL\n"
     ]
    }
   ],
   "source": [
    "text = input(\"Enter text: \")\n",
    "\n",
    "clean_text = \"\"\n",
    "\n",
    "for ch in text:\n",
    "    if ch.isalnum():     \n",
    "        clean_text += ch\n",
    "\n",
    "print(\"Cleaned text:\", clean_text)\n"
   ]
  },
  {
   "cell_type": "markdown",
   "id": "0300bb72",
   "metadata": {},
   "source": [
    "## SORTING BY ASCII"
   ]
  },
  {
   "cell_type": "code",
   "execution_count": 2,
   "id": "f9f3324d",
   "metadata": {},
   "outputs": [
    {
     "name": "stdout",
     "output_type": "stream",
     "text": [
      "Cleaned and Sorted: AIaaelmnry\n"
     ]
    }
   ],
   "source": [
    "text = input(\"Enter word: \")\n",
    "\n",
    "sort_text = \"\"\n",
    "for ch in text:\n",
    "    if ch.isalnum():\n",
    "        sort_text += ch\n",
    "\n",
    "sorted_text = ''.join(sorted(sort_text))\n",
    "\n",
    "print(\"Cleaned and Sorted:\", sorted_text)\n"
   ]
  },
  {
   "cell_type": "markdown",
   "id": "f76511b4",
   "metadata": {},
   "source": [
    "## SORTING BY WORD\n"
   ]
  },
  {
   "cell_type": "code",
   "execution_count": 3,
   "id": "4f885b9c",
   "metadata": {},
   "outputs": [
    {
     "name": "stdout",
     "output_type": "stream",
     "text": [
      "Alphabetically sorted: ['aim', 'aaelnry', 'abgi']\n"
     ]
    }
   ],
   "source": [
    "text = input(\" Sentence \")\n",
    "\n",
    "words = text.split()\n",
    "new_words = []\n",
    "\n",
    "for word in words:\n",
    "    clean = \"\"\n",
    "    for ch in word:\n",
    "        if ch.isalnum():  \n",
    "            clean = clean + ch\n",
    "    sorted_word = \"\".join(sorted(clean)) \n",
    "    new_words.append(sorted_word)\n",
    "\n",
    "print(\"Alphabetically sorted:\", new_words)\n"
   ]
  }
 ],
 "metadata": {
  "kernelspec": {
   "display_name": "base",
   "language": "python",
   "name": "python3"
  },
  "language_info": {
   "codemirror_mode": {
    "name": "ipython",
    "version": 3
   },
   "file_extension": ".py",
   "mimetype": "text/x-python",
   "name": "python",
   "nbconvert_exporter": "python",
   "pygments_lexer": "ipython3",
   "version": "3.12.4"
  }
 },
 "nbformat": 4,
 "nbformat_minor": 5
}
