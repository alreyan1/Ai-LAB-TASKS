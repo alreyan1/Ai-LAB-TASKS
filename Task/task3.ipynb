{
 "cells": [
  {
   "cell_type": "code",
   "execution_count": 2,
   "id": "69cf21ec",
   "metadata": {},
   "outputs": [
    {
     "name": "stdout",
     "output_type": "stream",
     "text": [
      "BEDROOM | Current: 26°C | Past Avg: 26.0°C | Action: Turn ON AC\n",
      "DINNING ROOM | Current: 30°C | Past Avg: 30.0°C | Action: Turn ON AC\n",
      "LOUNGE | Current: 20°C | Past Avg: 22.0°C | Action: Turn OFF AC\n"
     ]
    }
   ],
   "source": [
    "class TempAgent:\n",
    "    def __init__(self, target, history_file):\n",
    "        self.target = target\n",
    "        self.history_file = history_file\n",
    "\n",
    "    def past_average(self, room):\n",
    "        temps = []\n",
    "        with open(self.history_file, \"r\") as f:\n",
    "            lines = f.readlines()\n",
    "            take = False\n",
    "            for line in lines:\n",
    "                line = line.strip()\n",
    "                if line.startswith(room + \":\"):\n",
    "                    take = True\n",
    "                    continue\n",
    "                if take:\n",
    "                    if line == \"\":   # stop if blank line\n",
    "                        break\n",
    "                    if \"->\" in line:\n",
    "                        temp = line.split(\"->\")[1].replace(\"°C\", \"\").strip()\n",
    "                        temps.append(int(temp))\n",
    "        if temps:\n",
    "            return sum(temps) / len(temps)\n",
    "        return None\n",
    "\n",
    "    def action(self, room, current):\n",
    "        avg = self.past_average(room)\n",
    "        if avg is None:\n",
    "            avg = current\n",
    "\n",
    "        if current > self.target and avg > self.target:\n",
    "            return \"Turn ON AC\", avg\n",
    "        else:\n",
    "            return \"Turn OFF AC\", avg\n",
    "\n",
    "    def show(self, room, current):\n",
    "        act, avg = self.action(room, current)\n",
    "        print(f\"{room} | Current: {current}°C | Past Avg: {avg:.1f}°C | Action: {act}\")\n",
    "\n",
    "\n",
    "# Example usage\n",
    "rooms = {\n",
    "    \"BEDROOM\": 26,\n",
    "    \"DINNING ROOM\": 30,\n",
    "    \"LOUNGE\": 20\n",
    "}\n",
    "\n",
    "agent = TempAgent(24, \"temperature_history.txt\")\n",
    "\n",
    "for r, t in rooms.items():\n",
    "    agent.show(r, t)\n"
   ]
  }
 ],
 "metadata": {
  "kernelspec": {
   "display_name": "base",
   "language": "python",
   "name": "python3"
  },
  "language_info": {
   "codemirror_mode": {
    "name": "ipython",
    "version": 3
   },
   "file_extension": ".py",
   "mimetype": "text/x-python",
   "name": "python",
   "nbconvert_exporter": "python",
   "pygments_lexer": "ipython3",
   "version": "3.12.4"
  }
 },
 "nbformat": 4,
 "nbformat_minor": 5
}
