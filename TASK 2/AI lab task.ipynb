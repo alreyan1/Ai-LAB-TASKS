{
 "cells": [
  {
   "cell_type": "code",
   "execution_count": null,
   "id": "0adf30b9",
   "metadata": {},
   "outputs": [],
   "source": [
    "movies = [\n",
    "    (\"Pathaan \", 2500000000),  \n",
    "    (\"The Legend of Maula Jatt \", 4500000000),\n",
    "    (\"Dangal \", 3000000000),\n",
    "    (\"Punjab Nahi Jaungi \", 1700000000),\n",
    "    (\"PK \", 850000000),\n",
    "    (\"Waar \", 230000000),\n",
    "]\n",
    "\n",
    "num = int(input(\"How many movies do you want to add? \"))\n",
    "\n",
    "for i in range(num):\n",
    "    name = input(\"Enter movie name: \")\n",
    "    budget = int(input(\"Enter movie budget: \"))\n",
    "    movies.append((name, budget))\n",
    "\n",
    "total_budget = sum(b for _, b in movies)\n",
    "avg_budget = total_budget / len(movies)\n",
    "print(f\"\\nAverage budget of movies: {avg_budget}\")\n",
    "\n",
    "above_avg = [(n, b - avg_budget) for n, b in movies if b > avg_budget]\n",
    "\n",
    "print(\"\\nMovies with higher budget than average:\")\n",
    "for name, diff in above_avg:\n",
    "    print(f\"{name} spent {diff} more than average\")\n",
    "\n",
    "print(f\"Total movies above average: {len(above_avg)}\")\n"
   ]
  }
 ],
 "metadata": {
  "kernelspec": {
   "display_name": "base",
   "language": "python",
   "name": "python3"
  },
  "language_info": {
   "codemirror_mode": {
    "name": "ipython",
    "version": 3
   },
   "file_extension": ".py",
   "mimetype": "text/x-python",
   "name": "python",
   "nbconvert_exporter": "python",
   "pygments_lexer": "ipython3",
   "version": "3.12.4"
  }
 },
 "nbformat": 4,
 "nbformat_minor": 5
}
