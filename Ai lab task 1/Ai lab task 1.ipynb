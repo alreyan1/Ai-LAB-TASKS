{
 "cells": [
  {
   "cell_type": "code",
   "execution_count": 9,
   "id": "0cd33454",
   "metadata": {},
   "outputs": [
    {
     "name": "stdout",
     "output_type": "stream",
     "text": [
      "=== Calculator for Custom Symbols (× and ÷) ===\n",
      "Type 'quit' to exit.\n",
      "\n",
      "Error: Please enter a valid expression.\n",
      "Result: 16.9\n",
      "Goodbye!\n"
     ]
    }
   ],
   "source": [
    "print(\"=== Calculator for Custom Symbols (× and ÷) ===\")\n",
    "print(\"Type 'quit' to exit.\\n\")\n",
    "\n",
    "while True:\n",
    "    expression = input(\"Enter expression: \")\n",
    "\n",
    "    if expression.lower() == \"quit\":\n",
    "        print(\"Goodbye!\")\n",
    "        break\n",
    "\n",
    "    try:\n",
    "        expression = expression.replace(\"×\", \"*\").replace(\"÷\", \"/\")\n",
    "        import re\n",
    "        expression = re.sub(r\"(\\d)\\(\", r\"\\1*(\", expression)\n",
    "        result = eval(expression)\n",
    "        print(\"Result:\", result)\n",
    "    except:\n",
    "        print(\"Error: Please enter a valid expression.\")\n"
   ]
  }
 ],
 "metadata": {
  "kernelspec": {
   "display_name": "base",
   "language": "python",
   "name": "python3"
  },
  "language_info": {
   "codemirror_mode": {
    "name": "ipython",
    "version": 3
   },
   "file_extension": ".py",
   "mimetype": "text/x-python",
   "name": "python",
   "nbconvert_exporter": "python",
   "pygments_lexer": "ipython3",
   "version": "3.12.4"
  }
 },
 "nbformat": 4,
 "nbformat_minor": 5
}
